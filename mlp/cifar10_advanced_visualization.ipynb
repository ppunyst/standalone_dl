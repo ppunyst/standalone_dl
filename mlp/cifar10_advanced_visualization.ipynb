{
  "nbformat": 4,
  "nbformat_minor": 0,
  "metadata": {
    "colab": {
      "name": "visualization of experiment.ipynb",
      "provenance": [],
      "collapsed_sections": []
    },
    "kernelspec": {
      "name": "python3",
      "display_name": "Python 3"
    },
    "language_info": {
      "name": "python"
    },
    "accelerator": "GPU",
    "widgets": {
      "application/vnd.jupyter.widget-state+json": {
        "ed97d3cbf66e436cb21e7eb577d8fad4": {
          "model_module": "@jupyter-widgets/controls",
          "model_name": "HBoxModel",
          "model_module_version": "1.5.0",
          "state": {
            "_view_name": "HBoxView",
            "_dom_classes": [],
            "_model_name": "HBoxModel",
            "_view_module": "@jupyter-widgets/controls",
            "_model_module_version": "1.5.0",
            "_view_count": null,
            "_view_module_version": "1.5.0",
            "box_style": "",
            "layout": "IPY_MODEL_acee087ad7344d7eabe6d9ad3ade2123",
            "_model_module": "@jupyter-widgets/controls",
            "children": [
              "IPY_MODEL_7b1493ff386d4acea485fdd013d1ea17",
              "IPY_MODEL_59f8f738acc940a88709e5ccb7c2bf6e",
              "IPY_MODEL_81f176fe8c184cc5ae374e50e4dc9b0d"
            ]
          }
        },
        "acee087ad7344d7eabe6d9ad3ade2123": {
          "model_module": "@jupyter-widgets/base",
          "model_name": "LayoutModel",
          "model_module_version": "1.2.0",
          "state": {
            "_view_name": "LayoutView",
            "grid_template_rows": null,
            "right": null,
            "justify_content": null,
            "_view_module": "@jupyter-widgets/base",
            "overflow": null,
            "_model_module_version": "1.2.0",
            "_view_count": null,
            "flex_flow": null,
            "width": null,
            "min_width": null,
            "border": null,
            "align_items": null,
            "bottom": null,
            "_model_module": "@jupyter-widgets/base",
            "top": null,
            "grid_column": null,
            "overflow_y": null,
            "overflow_x": null,
            "grid_auto_flow": null,
            "grid_area": null,
            "grid_template_columns": null,
            "flex": null,
            "_model_name": "LayoutModel",
            "justify_items": null,
            "grid_row": null,
            "max_height": null,
            "align_content": null,
            "visibility": null,
            "align_self": null,
            "height": null,
            "min_height": null,
            "padding": null,
            "grid_auto_rows": null,
            "grid_gap": null,
            "max_width": null,
            "order": null,
            "_view_module_version": "1.2.0",
            "grid_template_areas": null,
            "object_position": null,
            "object_fit": null,
            "grid_auto_columns": null,
            "margin": null,
            "display": null,
            "left": null
          }
        },
        "7b1493ff386d4acea485fdd013d1ea17": {
          "model_module": "@jupyter-widgets/controls",
          "model_name": "HTMLModel",
          "model_module_version": "1.5.0",
          "state": {
            "_view_name": "HTMLView",
            "style": "IPY_MODEL_35ccebf020e24ce0bf8612d2278cf60b",
            "_dom_classes": [],
            "description": "",
            "_model_name": "HTMLModel",
            "placeholder": "​",
            "_view_module": "@jupyter-widgets/controls",
            "_model_module_version": "1.5.0",
            "value": "",
            "_view_count": null,
            "_view_module_version": "1.5.0",
            "description_tooltip": null,
            "_model_module": "@jupyter-widgets/controls",
            "layout": "IPY_MODEL_02d7d4dab8a04ea980a9dd063ee35c0d"
          }
        },
        "59f8f738acc940a88709e5ccb7c2bf6e": {
          "model_module": "@jupyter-widgets/controls",
          "model_name": "FloatProgressModel",
          "model_module_version": "1.5.0",
          "state": {
            "_view_name": "ProgressView",
            "style": "IPY_MODEL_6fe71d9863514eb1925a95b70566bbfd",
            "_dom_classes": [],
            "description": "",
            "_model_name": "FloatProgressModel",
            "bar_style": "success",
            "max": 170498071,
            "_view_module": "@jupyter-widgets/controls",
            "_model_module_version": "1.5.0",
            "value": 170498071,
            "_view_count": null,
            "_view_module_version": "1.5.0",
            "orientation": "horizontal",
            "min": 0,
            "description_tooltip": null,
            "_model_module": "@jupyter-widgets/controls",
            "layout": "IPY_MODEL_89c2b5b26e4b46dab578dabd1fb513c8"
          }
        },
        "81f176fe8c184cc5ae374e50e4dc9b0d": {
          "model_module": "@jupyter-widgets/controls",
          "model_name": "HTMLModel",
          "model_module_version": "1.5.0",
          "state": {
            "_view_name": "HTMLView",
            "style": "IPY_MODEL_a0417ed67ea240d3bbd38dc061481cac",
            "_dom_classes": [],
            "description": "",
            "_model_name": "HTMLModel",
            "placeholder": "​",
            "_view_module": "@jupyter-widgets/controls",
            "_model_module_version": "1.5.0",
            "value": " 170499072/? [00:06&lt;00:00, 31081436.70it/s]",
            "_view_count": null,
            "_view_module_version": "1.5.0",
            "description_tooltip": null,
            "_model_module": "@jupyter-widgets/controls",
            "layout": "IPY_MODEL_181df2f5390e46f7841824f23ca84375"
          }
        },
        "35ccebf020e24ce0bf8612d2278cf60b": {
          "model_module": "@jupyter-widgets/controls",
          "model_name": "DescriptionStyleModel",
          "model_module_version": "1.5.0",
          "state": {
            "_view_name": "StyleView",
            "_model_name": "DescriptionStyleModel",
            "description_width": "",
            "_view_module": "@jupyter-widgets/base",
            "_model_module_version": "1.5.0",
            "_view_count": null,
            "_view_module_version": "1.2.0",
            "_model_module": "@jupyter-widgets/controls"
          }
        },
        "02d7d4dab8a04ea980a9dd063ee35c0d": {
          "model_module": "@jupyter-widgets/base",
          "model_name": "LayoutModel",
          "model_module_version": "1.2.0",
          "state": {
            "_view_name": "LayoutView",
            "grid_template_rows": null,
            "right": null,
            "justify_content": null,
            "_view_module": "@jupyter-widgets/base",
            "overflow": null,
            "_model_module_version": "1.2.0",
            "_view_count": null,
            "flex_flow": null,
            "width": null,
            "min_width": null,
            "border": null,
            "align_items": null,
            "bottom": null,
            "_model_module": "@jupyter-widgets/base",
            "top": null,
            "grid_column": null,
            "overflow_y": null,
            "overflow_x": null,
            "grid_auto_flow": null,
            "grid_area": null,
            "grid_template_columns": null,
            "flex": null,
            "_model_name": "LayoutModel",
            "justify_items": null,
            "grid_row": null,
            "max_height": null,
            "align_content": null,
            "visibility": null,
            "align_self": null,
            "height": null,
            "min_height": null,
            "padding": null,
            "grid_auto_rows": null,
            "grid_gap": null,
            "max_width": null,
            "order": null,
            "_view_module_version": "1.2.0",
            "grid_template_areas": null,
            "object_position": null,
            "object_fit": null,
            "grid_auto_columns": null,
            "margin": null,
            "display": null,
            "left": null
          }
        },
        "6fe71d9863514eb1925a95b70566bbfd": {
          "model_module": "@jupyter-widgets/controls",
          "model_name": "ProgressStyleModel",
          "model_module_version": "1.5.0",
          "state": {
            "_view_name": "StyleView",
            "_model_name": "ProgressStyleModel",
            "description_width": "",
            "_view_module": "@jupyter-widgets/base",
            "_model_module_version": "1.5.0",
            "_view_count": null,
            "_view_module_version": "1.2.0",
            "bar_color": null,
            "_model_module": "@jupyter-widgets/controls"
          }
        },
        "89c2b5b26e4b46dab578dabd1fb513c8": {
          "model_module": "@jupyter-widgets/base",
          "model_name": "LayoutModel",
          "model_module_version": "1.2.0",
          "state": {
            "_view_name": "LayoutView",
            "grid_template_rows": null,
            "right": null,
            "justify_content": null,
            "_view_module": "@jupyter-widgets/base",
            "overflow": null,
            "_model_module_version": "1.2.0",
            "_view_count": null,
            "flex_flow": null,
            "width": null,
            "min_width": null,
            "border": null,
            "align_items": null,
            "bottom": null,
            "_model_module": "@jupyter-widgets/base",
            "top": null,
            "grid_column": null,
            "overflow_y": null,
            "overflow_x": null,
            "grid_auto_flow": null,
            "grid_area": null,
            "grid_template_columns": null,
            "flex": null,
            "_model_name": "LayoutModel",
            "justify_items": null,
            "grid_row": null,
            "max_height": null,
            "align_content": null,
            "visibility": null,
            "align_self": null,
            "height": null,
            "min_height": null,
            "padding": null,
            "grid_auto_rows": null,
            "grid_gap": null,
            "max_width": null,
            "order": null,
            "_view_module_version": "1.2.0",
            "grid_template_areas": null,
            "object_position": null,
            "object_fit": null,
            "grid_auto_columns": null,
            "margin": null,
            "display": null,
            "left": null
          }
        },
        "a0417ed67ea240d3bbd38dc061481cac": {
          "model_module": "@jupyter-widgets/controls",
          "model_name": "DescriptionStyleModel",
          "model_module_version": "1.5.0",
          "state": {
            "_view_name": "StyleView",
            "_model_name": "DescriptionStyleModel",
            "description_width": "",
            "_view_module": "@jupyter-widgets/base",
            "_model_module_version": "1.5.0",
            "_view_count": null,
            "_view_module_version": "1.2.0",
            "_model_module": "@jupyter-widgets/controls"
          }
        },
        "181df2f5390e46f7841824f23ca84375": {
          "model_module": "@jupyter-widgets/base",
          "model_name": "LayoutModel",
          "model_module_version": "1.2.0",
          "state": {
            "_view_name": "LayoutView",
            "grid_template_rows": null,
            "right": null,
            "justify_content": null,
            "_view_module": "@jupyter-widgets/base",
            "overflow": null,
            "_model_module_version": "1.2.0",
            "_view_count": null,
            "flex_flow": null,
            "width": null,
            "min_width": null,
            "border": null,
            "align_items": null,
            "bottom": null,
            "_model_module": "@jupyter-widgets/base",
            "top": null,
            "grid_column": null,
            "overflow_y": null,
            "overflow_x": null,
            "grid_auto_flow": null,
            "grid_area": null,
            "grid_template_columns": null,
            "flex": null,
            "_model_name": "LayoutModel",
            "justify_items": null,
            "grid_row": null,
            "max_height": null,
            "align_content": null,
            "visibility": null,
            "align_self": null,
            "height": null,
            "min_height": null,
            "padding": null,
            "grid_auto_rows": null,
            "grid_gap": null,
            "max_width": null,
            "order": null,
            "_view_module_version": "1.2.0",
            "grid_template_areas": null,
            "object_position": null,
            "object_fit": null,
            "grid_auto_columns": null,
            "margin": null,
            "display": null,
            "left": null
          }
        }
      }
    }
  },
  "cells": [
    {
      "cell_type": "code",
      "metadata": {
        "id": "0fFHHtaS9cn1"
      },
      "source": [
        "import json\n",
        "a = {'value1':5, 'value2':10, 'seq': [1,2,3,4,5]}\n",
        "\n",
        "filename = 'test.json'\n",
        "with open(filename, 'w') as f:\n",
        "    json.dump(a, f)"
      ],
      "execution_count": 5,
      "outputs": []
    },
    {
      "cell_type": "code",
      "metadata": {
        "colab": {
          "base_uri": "https://localhost:8080/"
        },
        "id": "n4b-EuEx9-1t",
        "outputId": "0e94dd02-0415-4c95-f4d8-679348defea3"
      },
      "source": [
        "!cat test.json"
      ],
      "execution_count": 6,
      "outputs": [
        {
          "output_type": "stream",
          "name": "stdout",
          "text": [
            "{\"value1\": 5, \"value2\": 10, \"seq\": [1, 2, 3, 4, 5]}"
          ]
        }
      ]
    },
    {
      "cell_type": "code",
      "metadata": {
        "colab": {
          "base_uri": "https://localhost:8080/"
        },
        "id": "ELEewiUz-HHv",
        "outputId": "fb182593-02ce-41ce-f740-f865b8557860"
      },
      "source": [
        "with open(filename, 'r') as f:\n",
        "    result = json.load(f)\n",
        "    print(result)"
      ],
      "execution_count": 7,
      "outputs": [
        {
          "output_type": "stream",
          "name": "stdout",
          "text": [
            "{'value1': 5, 'value2': 10, 'seq': [1, 2, 3, 4, 5]}\n"
          ]
        }
      ]
    },
    {
      "cell_type": "code",
      "metadata": {
        "colab": {
          "base_uri": "https://localhost:8080/"
        },
        "id": "B6tNv_fB_NpQ",
        "outputId": "cd999e16-fe9f-403c-9fae-17714cc1972f"
      },
      "source": [
        "import hashlib\n",
        "setting = {'value1':5, 'value2':10, 'seq': [1,2,3,4,5], 'exp_name': 'exp1'}\n",
        "hash_key = hashlib.sha1(str(setting).encode()).hexdigest()[:6]\n",
        "exp_name = setting['exp_name']\n",
        "filename = '{}-{}.json'.format(exp_name, hash_key)\n",
        "print(hash_key)\n",
        "print(filename)"
      ],
      "execution_count": 17,
      "outputs": [
        {
          "output_type": "stream",
          "name": "stdout",
          "text": [
            "4766aa\n",
            "exp1-4766aa.json\n"
          ]
        }
      ]
    },
    {
      "cell_type": "code",
      "metadata": {
        "colab": {
          "base_uri": "https://localhost:8080/",
          "height": 307
        },
        "id": "fnDKKEsrGMwJ",
        "outputId": "afb9c46a-ea33-447d-b47f-de3c18921380"
      },
      "source": [
        "import seaborn as sns\n",
        "import matplotlib.pyplot as plt\n",
        "result = load_exp_result('exp1')\n",
        "\n",
        "fig, ax = plt.subplots(1,3)\n",
        "fig.set_size_inches(15, 6)\n",
        "sns.set_style(\"darkgrid\", {\"axes.facecolor\":\".9\"})\n",
        "\n",
        "sns.barplot(x='n_layer', y='train_acc', hue='hid_dim', data=result, ax=ax[0])\n",
        "sns.barplot(x='n_layer', y='val_acc', hue='hid_dim', data=result, ax=ax[1])\n",
        "sns.barplot(x='n_layer', y='test_acc', hue='hid_dim', data=result, ax=ax[2])"
      ],
      "execution_count": 48,
      "outputs": [
        {
          "output_type": "execute_result",
          "data": {
            "text/plain": [
              "<matplotlib.axes._subplots.AxesSubplot at 0x7f3937d8e510>"
            ]
          },
          "metadata": {},
          "execution_count": 48
        },
        {
          "output_type": "display_data",
          "data": {
            "image/png": "[encoded data removed]",
            "text/plain": [
              "<Figure size 1080x432 with 3 Axes>"
            ]
          },
          "metadata": {}
        }
      ]
    },
    {
      "cell_type": "markdown",
      "metadata": {
        "id": "GH-TkDCABDzw"
      },
      "source": [
        "# Result Report"
      ]
    },
    {
      "cell_type": "code",
      "metadata": {
        "colab": {
          "base_uri": "https://localhost:8080/"
        },
        "id": "wi2OYStwBHqk",
        "outputId": "edb981b8-49ec-4a78-810c-47e5368d92b6"
      },
      "source": [
        "!mkdir results\n",
        "!ls"
      ],
      "execution_count": 4,
      "outputs": [
        {
          "output_type": "stream",
          "name": "stdout",
          "text": [
            "results  sample_data\n"
          ]
        }
      ]
    },
    {
      "cell_type": "code",
      "metadata": {
        "id": "GgnnIO1NCNso"
      },
      "source": [
        "import torch\n",
        "import torchvision\n",
        "import torchvision.transforms as transforms\n",
        "import torch.nn as nn\n",
        "import torch.nn.functional as F\n",
        "import torch.optim as optim\n",
        "import argparse\n",
        "import numpy as np\n",
        "import time\n",
        "from copy import deepcopy # Add Deepcopy for args"
      ],
      "execution_count": 5,
      "outputs": []
    },
    {
      "cell_type": "markdown",
      "metadata": {
        "id": "rz76O6MVCazy"
      },
      "source": [
        "# Data Preparation"
      ]
    },
    {
      "cell_type": "code",
      "metadata": {
        "colab": {
          "base_uri": "https://localhost:8080/",
          "height": 121,
          "referenced_widgets": [
            "ed97d3cbf66e436cb21e7eb577d8fad4",
            "acee087ad7344d7eabe6d9ad3ade2123",
            "7b1493ff386d4acea485fdd013d1ea17",
            "59f8f738acc940a88709e5ccb7c2bf6e",
            "81f176fe8c184cc5ae374e50e4dc9b0d",
            "35ccebf020e24ce0bf8612d2278cf60b",
            "02d7d4dab8a04ea980a9dd063ee35c0d",
            "6fe71d9863514eb1925a95b70566bbfd",
            "89c2b5b26e4b46dab578dabd1fb513c8",
            "a0417ed67ea240d3bbd38dc061481cac",
            "181df2f5390e46f7841824f23ca84375"
          ]
        },
        "id": "9eIAqt6_Cc3a",
        "outputId": "b173bbc5-3b7b-49f5-83fe-e2e3de10a0d1"
      },
      "source": [
        "transform = transforms.Compose(\n",
        "    [transforms.ToTensor(),\n",
        "     transforms.Normalize((0.5, 0.5, 0.5), (0.5, 0.5, 0.5))])\n",
        "\n",
        "trainset = torchvision.datasets.CIFAR10(root='./data', train=True,\n",
        "                                        download=True, transform=transform)\n",
        "trainset, valset = torch.utils.data.random_split(trainset, [40000, 10000])\n",
        "testset = torchvision.datasets.CIFAR10(root='./data', train=False,\n",
        "                                       download=True, transform=transform)\n",
        "partition = {'train': trainset, 'val':valset, 'test':testset}"
      ],
      "execution_count": 6,
      "outputs": [
        {
          "output_type": "stream",
          "name": "stdout",
          "text": [
            "Downloading https://www.cs.toronto.edu/~kriz/cifar-10-python.tar.gz to ./data/cifar-10-python.tar.gz\n"
          ]
        },
        {
          "output_type": "display_data",
          "data": {
            "application/vnd.jupyter.widget-view+json": {
              "model_id": "ed97d3cbf66e436cb21e7eb577d8fad4",
              "version_minor": 0,
              "version_major": 2
            },
            "text/plain": [
              "  0%|          | 0/170498071 [00:00<?, ?it/s]"
            ]
          },
          "metadata": {}
        },
        {
          "output_type": "stream",
          "name": "stdout",
          "text": [
            "Extracting ./data/cifar-10-python.tar.gz to ./data\n",
            "Files already downloaded and verified\n"
          ]
        }
      ]
    },
    {
      "cell_type": "markdown",
      "metadata": {
        "id": "nNLiyA79ClGR"
      },
      "source": [
        "# Model Architecture"
      ]
    },
    {
      "cell_type": "code",
      "metadata": {
        "id": "UBKdJTh2Cm1v"
      },
      "source": [
        "class MLP(nn.Module):\n",
        "    def __init__(self, in_dim, out_dim, hid_dim, n_layer, act, dropout, use_bn, use_xavier):\n",
        "        super(MLP, self).__init__()\n",
        "        self.in_dim = in_dim\n",
        "        self.out_dim = out_dim\n",
        "        self.hid_dim = hid_dim\n",
        "        self.n_layer = n_layer\n",
        "        self.act = act\n",
        "        self.dropout = dropout\n",
        "        self.use_bn = use_bn\n",
        "        self.use_xavier = use_xavier\n",
        "        \n",
        "        # ====== Create Linear Layers ====== #\n",
        "        self.fc1 = nn.Linear(self.in_dim, self.hid_dim)\n",
        "        \n",
        "        self.linears = nn.ModuleList()\n",
        "        self.bns = nn.ModuleList()\n",
        "        for i in range(self.n_layer-1):\n",
        "            self.linears.append(nn.Linear(self.hid_dim, self.hid_dim))\n",
        "            if self.use_bn:\n",
        "                self.bns.append(nn.BatchNorm1d(self.hid_dim))\n",
        "                \n",
        "        self.fc2 = nn.Linear(self.hid_dim, self.out_dim)\n",
        "        \n",
        "        # ====== Create Activation Function ====== #\n",
        "        if self.act == 'relu':\n",
        "            self.act = nn.ReLU()\n",
        "        elif self.act == 'tanh':\n",
        "            self.act == nn.Tanh()\n",
        "        elif self.act == 'sigmoid':\n",
        "            self.act = nn.Sigmoid()\n",
        "        else:\n",
        "            raise ValueError('no valid activation function selected!')\n",
        "        \n",
        "        # ====== Create Regularization Layer ======= #\n",
        "        self.dropout = nn.Dropout(self.dropout)\n",
        "        if self.use_xavier:\n",
        "            self.xavier_init()\n",
        "          \n",
        "    def forward(self, x):\n",
        "        x = self.act(self.fc1(x))\n",
        "        for i in range(len(self.linears)):\n",
        "            x = self.act(self.linears[i](x))\n",
        "            x = self.bns[i](x)\n",
        "            x = self.dropout(x)\n",
        "        x = self.fc2(x)\n",
        "        return x\n",
        "    \n",
        "    def xavier_init(self):\n",
        "        for linear in self.linears:\n",
        "            nn.init.xavier_normal_(linear.weight)\n",
        "            linear.bias.data.fill_(0.01)\n",
        "            \n",
        "net = MLP(3072, 10, 100, 4, 'relu', 0.1, True, True) # Testing Model Construction"
      ],
      "execution_count": 7,
      "outputs": []
    },
    {
      "cell_type": "markdown",
      "metadata": {
        "id": "M_K5dVOlCqyF"
      },
      "source": [
        "# Train, Validate, Test and Experiment"
      ]
    },
    {
      "cell_type": "code",
      "metadata": {
        "id": "o53OL9ZaCtmI"
      },
      "source": [
        "def train(net, partition, optimizer, criterion, args):\n",
        "    trainloader = torch.utils.data.DataLoader(partition['train'], \n",
        "                                              batch_size=args.train_batch_size, \n",
        "                                              shuffle=True, num_workers=2)\n",
        "    net.train()\n",
        "\n",
        "    correct = 0\n",
        "    total = 0\n",
        "    train_loss = 0.0\n",
        "    for i, data in enumerate(trainloader, 0):\n",
        "        optimizer.zero_grad() # [21.01.05 오류 수정] 매 Epoch 마다 .zero_grad()가 실행되는 것을 매 iteration 마다 실행되도록 수정했습니다. \n",
        "\n",
        "        # get the inputs\n",
        "        inputs, labels = data\n",
        "        inputs = inputs.view(-1, 3072)\n",
        "        inputs = inputs.cuda()\n",
        "        labels = labels.cuda()\n",
        "        outputs = net(inputs)\n",
        "\n",
        "        loss = criterion(outputs, labels)\n",
        "        loss.backward()\n",
        "        optimizer.step()\n",
        "\n",
        "        train_loss += loss.item()\n",
        "        _, predicted = torch.max(outputs.data, 1)\n",
        "        total += labels.size(0)\n",
        "        correct += (predicted == labels).sum().item()\n",
        "\n",
        "    train_loss = train_loss / len(trainloader)\n",
        "    train_acc = 100 * correct / total\n",
        "    return net, train_loss, train_acc"
      ],
      "execution_count": 8,
      "outputs": []
    },
    {
      "cell_type": "code",
      "metadata": {
        "id": "RXGI-7GxCvRG"
      },
      "source": [
        "def validate(net, partition, criterion, args):\n",
        "    valloader = torch.utils.data.DataLoader(partition['val'], \n",
        "                                            batch_size=args.test_batch_size, \n",
        "                                            shuffle=False, num_workers=2)\n",
        "    net.eval()\n",
        "\n",
        "    correct = 0\n",
        "    total = 0\n",
        "    val_loss = 0 \n",
        "    with torch.no_grad():\n",
        "        for data in valloader:\n",
        "            images, labels = data\n",
        "            images = images.view(-1, 3072)\n",
        "            images = images.cuda()\n",
        "            labels = labels.cuda()\n",
        "            outputs = net(images)\n",
        "\n",
        "            loss = criterion(outputs, labels)\n",
        "            \n",
        "            val_loss += loss.item()\n",
        "            _, predicted = torch.max(outputs.data, 1)\n",
        "            total += labels.size(0)\n",
        "            correct += (predicted == labels).sum().item()\n",
        "\n",
        "        val_loss = val_loss / len(valloader)\n",
        "        val_acc = 100 * correct / total\n",
        "    return val_loss, val_acc"
      ],
      "execution_count": 9,
      "outputs": []
    },
    {
      "cell_type": "code",
      "metadata": {
        "id": "zm7nXXVyCxYe"
      },
      "source": [
        "def test(net, partition, args):\n",
        "    testloader = torch.utils.data.DataLoader(partition['test'], \n",
        "                                             batch_size=args.test_batch_size, \n",
        "                                             shuffle=False, num_workers=2)\n",
        "    net.eval()\n",
        "    \n",
        "    correct = 0\n",
        "    total = 0\n",
        "    with torch.no_grad():\n",
        "        for data in testloader:\n",
        "            images, labels = data\n",
        "            images = images.view(-1, 3072)\n",
        "            images = images.cuda()\n",
        "            labels = labels.cuda()\n",
        "\n",
        "            outputs = net(images)\n",
        "            _, predicted = torch.max(outputs.data, 1)\n",
        "            total += labels.size(0)\n",
        "            correct += (predicted == labels).sum().item()\n",
        "\n",
        "        test_acc = 100 * correct / total\n",
        "    return test_acc"
      ],
      "execution_count": 10,
      "outputs": []
    },
    {
      "cell_type": "code",
      "metadata": {
        "id": "F9fe0x8KCzJN"
      },
      "source": [
        "def experiment(partition, args):\n",
        "  \n",
        "    net = MLP(args.in_dim, args.out_dim, args.hid_dim, args.n_layer, args.act, args.dropout, args.use_bn, args.use_xavier)\n",
        "    net.cuda()\n",
        "\n",
        "    criterion = nn.CrossEntropyLoss()\n",
        "    if args.optim == 'SGD':\n",
        "        optimizer = optim.RMSprop(net.parameters(), lr=args.lr, weight_decay=args.l2)\n",
        "    elif args.optim == 'RMSprop':\n",
        "        optimizer = optim.RMSprop(net.parameters(), lr=args.lr, weight_decay=args.l2)\n",
        "    elif args.optim == 'Adam':\n",
        "        optimizer = optim.Adam(net.parameters(), lr=args.lr, weight_decay=args.l2)\n",
        "    else:\n",
        "        raise ValueError('In-valid optimizer choice')\n",
        "    \n",
        "    # ===== List for epoch-wise data ====== #\n",
        "    train_losses = []\n",
        "    val_losses = []\n",
        "    train_accs = []\n",
        "    val_accs = []\n",
        "    # ===================================== #\n",
        "        \n",
        "    for epoch in range(args.epoch):  # loop over the dataset multiple times\n",
        "        ts = time.time()\n",
        "        net, train_loss, train_acc = train(net, partition, optimizer, criterion, args)\n",
        "        val_loss, val_acc = validate(net, partition, criterion, args)\n",
        "        te = time.time()\n",
        "        \n",
        "        # ====== Add Epoch Data ====== #\n",
        "        train_losses.append(train_loss)\n",
        "        val_losses.append(val_loss)\n",
        "        train_accs.append(train_acc)\n",
        "        val_accs.append(val_acc)\n",
        "        # ============================ #\n",
        "        \n",
        "        print('Epoch {}, Acc(train/val): {:2.2f}/{:2.2f}, Loss(train/val) {:2.2f}/{:2.2f}. Took {:2.2f} sec'.format(epoch, train_acc, val_acc, train_loss, val_loss, te-ts))\n",
        "        \n",
        "    test_acc = test(net, partition, args)    \n",
        "    \n",
        "    # ======= Add Result to Dictionary ======= #\n",
        "    result = {}\n",
        "    result['train_losses'] = train_losses\n",
        "    result['val_losses'] = val_losses\n",
        "    result['train_accs'] = train_accs\n",
        "    result['val_accs'] = val_accs\n",
        "    result['train_acc'] = train_acc\n",
        "    result['val_acc'] = val_acc\n",
        "    result['test_acc'] = test_acc\n",
        "    return vars(args), result\n",
        "    # ===================================== #"
      ],
      "execution_count": 11,
      "outputs": []
    },
    {
      "cell_type": "markdown",
      "metadata": {
        "id": "PVRO9wBNC2Y3"
      },
      "source": [
        "# Manage Experiment Result"
      ]
    },
    {
      "cell_type": "code",
      "metadata": {
        "id": "CSChnVF_C2Mu"
      },
      "source": [
        "import hashlib\n",
        "import json\n",
        "from os import listdir\n",
        "from os.path import isfile, join\n",
        "import pandas as pd\n",
        "\n",
        "def save_exp_result(setting, result):\n",
        "    exp_name = setting['exp_name']\n",
        "    del setting['epoch']\n",
        "    del setting['test_batch_size']\n",
        "\n",
        "    hash_key = hashlib.sha1(str(setting).encode()).hexdigest()[:6]\n",
        "    filename = './results/{}-{}.json'.format(exp_name, hash_key)\n",
        "    result.update(setting)\n",
        "    with open(filename, 'w') as f:\n",
        "        json.dump(result, f)\n",
        "\n",
        "    \n",
        "def load_exp_result(exp_name):\n",
        "    dir_path = './results'\n",
        "    filenames = [f for f in listdir(dir_path) if isfile(join(dir_path, f)) if '.json' in f]\n",
        "    list_result = []\n",
        "    for filename in filenames:\n",
        "        if exp_name in filename:\n",
        "            with open(join(dir_path, filename), 'r') as infile:\n",
        "                results = json.load(infile)\n",
        "                list_result.append(results)\n",
        "    df = pd.DataFrame(list_result) # .drop(columns=[])\n",
        "    return df"
      ],
      "execution_count": 14,
      "outputs": []
    },
    {
      "cell_type": "code",
      "metadata": {
        "colab": {
          "base_uri": "https://localhost:8080/",
          "height": 32
        },
        "id": "v1rCnpEYF4CR",
        "outputId": "0d4fd73b-ef74-4a42-ccc7-0191cc3e6c94"
      },
      "source": [
        "load_exp_result('exp1')"
      ],
      "execution_count": 16,
      "outputs": [
        {
          "output_type": "execute_result",
          "data": {
            "text/html": [
              "<div>\n",
              "<style scoped>\n",
              "    .dataframe tbody tr th:only-of-type {\n",
              "        vertical-align: middle;\n",
              "    }\n",
              "\n",
              "    .dataframe tbody tr th {\n",
              "        vertical-align: top;\n",
              "    }\n",
              "\n",
              "    .dataframe thead th {\n",
              "        text-align: right;\n",
              "    }\n",
              "</style>\n",
              "<table border=\"1\" class=\"dataframe\">\n",
              "  <thead>\n",
              "    <tr style=\"text-align: right;\">\n",
              "      <th></th>\n",
              "    </tr>\n",
              "  </thead>\n",
              "  <tbody>\n",
              "  </tbody>\n",
              "</table>\n",
              "</div>"
            ],
            "text/plain": [
              "Empty DataFrame\n",
              "Columns: []\n",
              "Index: []"
            ]
          },
          "metadata": {},
          "execution_count": 16
        }
      ]
    },
    {
      "cell_type": "markdown",
      "metadata": {
        "id": "6xOUJrduC7oI"
      },
      "source": [
        "# Experiment"
      ]
    },
    {
      "cell_type": "code",
      "metadata": {
        "colab": {
          "base_uri": "https://localhost:8080/"
        },
        "id": "CNwlYK3TC1lS",
        "outputId": "ee98529e-6a6e-41bf-918c-bbd4a689cab6"
      },
      "source": [
        "# ====== Random Seed Initialization ====== #\n",
        "seed = 123\n",
        "np.random.seed(seed)\n",
        "torch.manual_seed(seed)\n",
        "\n",
        "parser = argparse.ArgumentParser()\n",
        "args = parser.parse_args(\"\")\n",
        "args.exp_name = \"exp1_n_layer_hid_dim\"\n",
        "\n",
        "# ====== Model Capacity ====== #\n",
        "args.in_dim = 3072\n",
        "args.out_dim = 10\n",
        "args.hid_dim = 100\n",
        "args.act = 'relu'\n",
        "\n",
        "# ====== Regularization ======= #\n",
        "args.dropout = 0.2\n",
        "args.use_bn = True\n",
        "args.l2 = 0.00001\n",
        "args.use_xavier = True\n",
        "\n",
        "# ====== Optimizer & Training ====== #\n",
        "args.optim = 'RMSprop' #'RMSprop' #SGD, RMSprop, ADAM...\n",
        "args.lr = 0.0015\n",
        "args.epoch = 10\n",
        "\n",
        "args.train_batch_size = 256\n",
        "args.test_batch_size = 1024\n",
        "\n",
        "# ====== Experiment Variable ====== #\n",
        "name_var1 = 'n_layer'\n",
        "name_var2 = 'hid_dim'\n",
        "list_var1 = [1, 2, 3]\n",
        "list_var2 = [500, 300]\n",
        "\n",
        "\n",
        "for var1 in list_var1:\n",
        "    for var2 in list_var2:\n",
        "        setattr(args, name_var1, var1)\n",
        "        setattr(args, name_var2, var2)\n",
        "        print(args)\n",
        "                \n",
        "        setting, result = experiment(partition, deepcopy(args))\n",
        "        save_exp_result(setting, result)"
      ],
      "execution_count": 17,
      "outputs": [
        {
          "output_type": "stream",
          "name": "stdout",
          "text": [
            "Namespace(act='relu', dropout=0.2, epoch=10, exp_name='exp1_n_layer_hid_dim', hid_dim=500, in_dim=3072, l2=1e-05, lr=0.0015, n_layer=1, optim='RMSprop', out_dim=10, test_batch_size=1024, train_batch_size=256, use_bn=True, use_xavier=True)\n",
            "Epoch 0, Acc(train/val): 38.27/34.75, Loss(train/val) 2.45/2.08. Took 10.93 sec\n",
            "Epoch 1, Acc(train/val): 46.33/38.66, Loss(train/val) 1.56/1.96. Took 11.04 sec\n",
            "Epoch 2, Acc(train/val): 48.73/40.93, Loss(train/val) 1.49/1.78. Took 11.00 sec\n",
            "Epoch 3, Acc(train/val): 51.29/42.30, Loss(train/val) 1.42/1.92. Took 11.06 sec\n",
            "Epoch 4, Acc(train/val): 53.20/37.37, Loss(train/val) 1.37/1.99. Took 11.03 sec\n",
            "Epoch 5, Acc(train/val): 54.73/46.09, Loss(train/val) 1.32/1.63. Took 11.05 sec\n",
            "Epoch 6, Acc(train/val): 56.81/45.89, Loss(train/val) 1.28/1.65. Took 10.97 sec\n",
            "Epoch 7, Acc(train/val): 59.27/43.72, Loss(train/val) 1.21/1.76. Took 11.10 sec\n",
            "Epoch 8, Acc(train/val): 60.08/44.91, Loss(train/val) 1.20/2.03. Took 11.03 sec\n",
            "Epoch 9, Acc(train/val): 61.42/44.71, Loss(train/val) 1.16/1.94. Took 10.92 sec\n",
            "Namespace(act='relu', dropout=0.2, epoch=10, exp_name='exp1_n_layer_hid_dim', hid_dim=300, in_dim=3072, l2=1e-05, lr=0.0015, n_layer=1, optim='RMSprop', out_dim=10, test_batch_size=1024, train_batch_size=256, use_bn=True, use_xavier=True)\n",
            "Epoch 0, Acc(train/val): 39.00/35.45, Loss(train/val) 2.20/1.89. Took 11.02 sec\n",
            "Epoch 1, Acc(train/val): 47.09/42.27, Loss(train/val) 1.53/1.68. Took 10.97 sec\n",
            "Epoch 2, Acc(train/val): 49.78/45.58, Loss(train/val) 1.45/1.58. Took 10.96 sec\n",
            "Epoch 3, Acc(train/val): 51.54/36.17, Loss(train/val) 1.40/2.16. Took 11.00 sec\n",
            "Epoch 4, Acc(train/val): 54.07/45.25, Loss(train/val) 1.34/1.65. Took 10.86 sec\n",
            "Epoch 5, Acc(train/val): 56.08/45.26, Loss(train/val) 1.29/1.65. Took 11.07 sec\n",
            "Epoch 6, Acc(train/val): 57.63/41.59, Loss(train/val) 1.24/1.84. Took 10.99 sec\n",
            "Epoch 7, Acc(train/val): 59.02/45.24, Loss(train/val) 1.20/1.72. Took 11.00 sec\n",
            "Epoch 8, Acc(train/val): 60.30/46.60, Loss(train/val) 1.17/1.76. Took 11.08 sec\n",
            "Epoch 9, Acc(train/val): 61.74/39.40, Loss(train/val) 1.13/2.26. Took 11.04 sec\n",
            "Namespace(act='relu', dropout=0.2, epoch=10, exp_name='exp1_n_layer_hid_dim', hid_dim=500, in_dim=3072, l2=1e-05, lr=0.0015, n_layer=2, optim='RMSprop', out_dim=10, test_batch_size=1024, train_batch_size=256, use_bn=True, use_xavier=True)\n",
            "Epoch 0, Acc(train/val): 37.17/37.78, Loss(train/val) 1.80/1.78. Took 11.20 sec\n",
            "Epoch 1, Acc(train/val): 45.95/43.28, Loss(train/val) 1.53/1.63. Took 11.41 sec\n",
            "Epoch 2, Acc(train/val): 49.81/41.54, Loss(train/val) 1.42/1.72. Took 11.27 sec\n",
            "Epoch 3, Acc(train/val): 52.78/45.99, Loss(train/val) 1.33/1.55. Took 11.24 sec\n",
            "Epoch 4, Acc(train/val): 55.07/47.46, Loss(train/val) 1.27/1.59. Took 11.31 sec\n",
            "Epoch 5, Acc(train/val): 57.56/44.43, Loss(train/val) 1.21/1.81. Took 11.21 sec\n",
            "Epoch 6, Acc(train/val): 58.60/47.27, Loss(train/val) 1.17/1.54. Took 11.24 sec\n",
            "Epoch 7, Acc(train/val): 61.38/44.45, Loss(train/val) 1.09/1.70. Took 11.01 sec\n",
            "Epoch 8, Acc(train/val): 63.59/51.12, Loss(train/val) 1.03/1.48. Took 11.25 sec\n",
            "Epoch 9, Acc(train/val): 65.28/51.33, Loss(train/val) 0.98/1.52. Took 11.17 sec\n",
            "Namespace(act='relu', dropout=0.2, epoch=10, exp_name='exp1_n_layer_hid_dim', hid_dim=300, in_dim=3072, l2=1e-05, lr=0.0015, n_layer=2, optim='RMSprop', out_dim=10, test_batch_size=1024, train_batch_size=256, use_bn=True, use_xavier=True)\n",
            "Epoch 0, Acc(train/val): 37.67/40.73, Loss(train/val) 1.76/1.68. Took 11.20 sec\n",
            "Epoch 1, Acc(train/val): 45.73/42.52, Loss(train/val) 1.53/1.61. Took 11.17 sec\n",
            "Epoch 2, Acc(train/val): 50.12/46.29, Loss(train/val) 1.41/1.51. Took 11.19 sec\n",
            "Epoch 3, Acc(train/val): 52.81/45.94, Loss(train/val) 1.34/1.53. Took 11.28 sec\n",
            "Epoch 4, Acc(train/val): 55.12/46.80, Loss(train/val) 1.27/1.54. Took 11.23 sec\n",
            "Epoch 5, Acc(train/val): 56.95/50.02, Loss(train/val) 1.21/1.44. Took 11.30 sec\n",
            "Epoch 6, Acc(train/val): 59.23/48.28, Loss(train/val) 1.16/1.52. Took 11.08 sec\n",
            "Epoch 7, Acc(train/val): 60.81/50.34, Loss(train/val) 1.11/1.44. Took 11.10 sec\n",
            "Epoch 8, Acc(train/val): 62.17/49.15, Loss(train/val) 1.07/1.61. Took 11.18 sec\n",
            "Epoch 9, Acc(train/val): 64.05/50.03, Loss(train/val) 1.01/1.50. Took 11.27 sec\n",
            "Namespace(act='relu', dropout=0.2, epoch=10, exp_name='exp1_n_layer_hid_dim', hid_dim=500, in_dim=3072, l2=1e-05, lr=0.0015, n_layer=3, optim='RMSprop', out_dim=10, test_batch_size=1024, train_batch_size=256, use_bn=True, use_xavier=True)\n",
            "Epoch 0, Acc(train/val): 35.36/37.07, Loss(train/val) 1.84/1.77. Took 11.34 sec\n",
            "Epoch 1, Acc(train/val): 45.48/40.89, Loss(train/val) 1.53/1.68. Took 11.31 sec\n",
            "Epoch 2, Acc(train/val): 49.64/44.10, Loss(train/val) 1.41/1.57. Took 11.26 sec\n",
            "Epoch 3, Acc(train/val): 52.49/40.79, Loss(train/val) 1.33/1.80. Took 11.32 sec\n",
            "Epoch 4, Acc(train/val): 55.19/45.30, Loss(train/val) 1.26/1.55. Took 11.26 sec\n",
            "Epoch 5, Acc(train/val): 57.74/48.40, Loss(train/val) 1.18/1.48. Took 11.27 sec\n",
            "Epoch 6, Acc(train/val): 60.04/29.78, Loss(train/val) 1.12/4.85. Took 11.15 sec\n",
            "Epoch 7, Acc(train/val): 61.90/49.01, Loss(train/val) 1.06/1.51. Took 11.25 sec\n",
            "Epoch 8, Acc(train/val): 64.17/48.69, Loss(train/val) 1.00/1.60. Took 11.40 sec\n",
            "Epoch 9, Acc(train/val): 65.88/48.54, Loss(train/val) 0.95/1.61. Took 11.54 sec\n",
            "Namespace(act='relu', dropout=0.2, epoch=10, exp_name='exp1_n_layer_hid_dim', hid_dim=300, in_dim=3072, l2=1e-05, lr=0.0015, n_layer=3, optim='RMSprop', out_dim=10, test_batch_size=1024, train_batch_size=256, use_bn=True, use_xavier=True)\n",
            "Epoch 0, Acc(train/val): 37.16/36.86, Loss(train/val) 1.76/1.71. Took 11.56 sec\n",
            "Epoch 1, Acc(train/val): 45.68/43.02, Loss(train/val) 1.52/1.59. Took 11.54 sec\n",
            "Epoch 2, Acc(train/val): 49.52/46.03, Loss(train/val) 1.41/1.53. Took 11.55 sec\n",
            "Epoch 3, Acc(train/val): 52.46/45.36, Loss(train/val) 1.33/1.56. Took 11.41 sec\n",
            "Epoch 4, Acc(train/val): 54.66/46.44, Loss(train/val) 1.26/1.53. Took 11.55 sec\n",
            "Epoch 5, Acc(train/val): 56.98/47.10, Loss(train/val) 1.20/1.55. Took 11.54 sec\n",
            "Epoch 6, Acc(train/val): 59.21/48.70, Loss(train/val) 1.14/1.48. Took 11.54 sec\n",
            "Epoch 7, Acc(train/val): 60.92/48.04, Loss(train/val) 1.09/1.52. Took 11.39 sec\n",
            "Epoch 8, Acc(train/val): 62.84/50.64, Loss(train/val) 1.04/1.46. Took 11.45 sec\n",
            "Epoch 9, Acc(train/val): 64.22/47.63, Loss(train/val) 1.00/1.62. Took 11.54 sec\n"
          ]
        }
      ]
    },
    {
      "cell_type": "code",
      "metadata": {
        "colab": {
          "base_uri": "https://localhost:8080/"
        },
        "id": "8yIYAQERFwnk",
        "outputId": "01908ee9-faf6-42a7-9c8e-484720377983"
      },
      "source": [
        "!ls results \n",
        "!cat results/exp1_n_layer_hid_dim-41b634.json"
      ],
      "execution_count": 18,
      "outputs": [
        {
          "output_type": "stream",
          "name": "stdout",
          "text": [
            "exp1_n_layer_hid_dim-41b634.json  exp1_n_layer_hid_dim-bfc899.json\n",
            "exp1_n_layer_hid_dim-61a2d0.json  exp1_n_layer_hid_dim-cab8c1.json\n",
            "exp1_n_layer_hid_dim-7b70fe.json  exp1_n_layer_hid_dim-dece45.json\n",
            "{\"train_losses\": [1.7621351032500054, 1.5182097368179612, 1.4101824813587651, 1.3263022071996313, 1.2622642873958418, 1.2001335977748702, 1.1399639662663648, 1.0931305346215607, 1.042813670103717, 0.9986699944848467], \"val_losses\": [1.7128851532936096, 1.5937999129295348, 1.5270843625068664, 1.5589637160301208, 1.528428602218628, 1.5468074560165406, 1.4795836925506591, 1.5236414909362792, 1.463409686088562, 1.6242159485816956], \"train_accs\": [37.155, 45.6825, 49.52, 52.46, 54.66, 56.985, 59.2125, 60.925, 62.835, 64.225], \"val_accs\": [36.86, 43.02, 46.03, 45.36, 46.44, 47.1, 48.7, 48.04, 50.64, 47.63], \"train_acc\": 64.225, \"val_acc\": 47.63, \"test_acc\": 48.25, \"exp_name\": \"exp1_n_layer_hid_dim\", \"in_dim\": 3072, \"out_dim\": 10, \"hid_dim\": 300, \"act\": \"relu\", \"dropout\": 0.2, \"use_bn\": true, \"l2\": 1e-05, \"use_xavier\": true, \"optim\": \"RMSprop\", \"lr\": 0.0015, \"train_batch_size\": 256, \"n_layer\": 3}"
          ]
        }
      ]
    },
    {
      "cell_type": "code",
      "metadata": {
        "colab": {
          "base_uri": "https://localhost:8080/",
          "height": 307
        },
        "id": "YwCcZcr_DAXg",
        "outputId": "a322a639-6211-45e5-d11d-c437b27d632d"
      },
      "source": [
        "import seaborn as sns \n",
        "import matplotlib.pyplot as plt\n",
        "\n",
        "df = load_exp_result('exp1')\n",
        "\n",
        "fig, ax = plt.subplots(1, 3)\n",
        "fig.set_size_inches(15, 6)\n",
        "sns.set_style(\"darkgrid\", {\"axes.facecolor\": \".9\"})\n",
        "\n",
        "sns.barplot(x='n_layer', y='train_acc', hue='hid_dim', data=df, ax=ax[0])\n",
        "sns.barplot(x='n_layer', y='val_acc', hue='hid_dim', data=df, ax=ax[1])\n",
        "sns.barplot(x='n_layer', y='test_acc', hue='hid_dim', data=df, ax=ax[2])"
      ],
      "execution_count": 19,
      "outputs": [
        {
          "output_type": "execute_result",
          "data": {
            "text/plain": [
              "<matplotlib.axes._subplots.AxesSubplot at 0x7f05d9999d10>"
            ]
          },
          "metadata": {},
          "execution_count": 19
        },
        {
          "output_type": "display_data",
          "data": {
            "image/png": "[encoded data removed]",
            "text/plain": [
              "<Figure size 1080x432 with 3 Axes>"
            ]
          },
          "metadata": {
            "needs_background": "light"
          }
        }
      ]
    },
    {
      "cell_type": "code",
      "metadata": {
        "colab": {
          "base_uri": "https://localhost:8080/",
          "height": 429
        },
        "id": "s4jBfz8aDBgn",
        "outputId": "0978fd2e-4899-46cc-e0c8-117346edab9f"
      },
      "source": [
        "var1 = 'n_layer'\n",
        "var2 = 'hid_dim'\n",
        "\n",
        "df = load_exp_result('exp1')\n",
        "list_v1 = df[var1].unique()\n",
        "list_v2 = df[var2].unique()\n",
        "print(list_v1, list_v2)\n",
        "list_data = []\n",
        "\n",
        "for value1 in list_v1:\n",
        "    for value2 in list_v2:\n",
        "        row = df.loc[df[var1]==value1]\n",
        "        row = row.loc[df[var2]==value2]\n",
        "\n",
        "        train_losses = list(row.train_losses)[0]\n",
        "        val_losses = list(row.val_losses)[0]\n",
        "        \n",
        "        for epoch, train_loss in enumerate(train_losses):\n",
        "            list_data.append({'type':'train', 'loss':train_loss, 'epoch':epoch, var1:value1, var2:value2})\n",
        "        for epoch, val_loss in enumerate(val_losses):\n",
        "            list_data.append({'type':'val', 'loss':val_loss, 'epoch':epoch, var1:value1, var2:value2})\n",
        "        \n",
        "df = pd.DataFrame(list_data)\n",
        "g = sns.FacetGrid(df, row=var2, col=var1, hue='type', margin_titles=True, sharey=False)\n",
        "g = g.map(plt.plot, 'epoch', 'loss', marker='.')\n",
        "g.add_legend()\n",
        "g.fig.suptitle('Train loss vs Val loss')\n",
        "plt.subplots_adjust(top=0.89)"
      ],
      "execution_count": 34,
      "outputs": [
        {
          "output_type": "stream",
          "name": "stdout",
          "text": [
            "[3 2 1] [500 300]\n"
          ]
        },
        {
          "output_type": "display_data",
          "data": {
            "image/png": "[encoded data removed]",
            "text/plain": [
              "<Figure size 707.375x432 with 6 Axes>"
            ]
          },
          "metadata": {}
        }
      ]
    },
    {
      "cell_type": "code",
      "metadata": {
        "colab": {
          "base_uri": "https://localhost:8080/",
          "height": 411
        },
        "id": "09Pih0gtDG8v",
        "outputId": "d9fc551d-7502-47b4-abc5-33aa2f22f84d"
      },
      "source": [
        "var1 = 'n_layer'\n",
        "var2 = 'hid_dim'\n",
        "\n",
        "df = load_exp_result('exp1')\n",
        "list_v1 = df[var1].unique()\n",
        "list_v2 = df[var2].unique()\n",
        "list_data = []\n",
        "\n",
        "for value1 in list_v1:\n",
        "    for value2 in list_v2:\n",
        "        row = df.loc[df[var1]==value1]\n",
        "        row = row.loc[df[var2]==value2]\n",
        "        \n",
        "        train_accs = list(row.train_accs)[0]\n",
        "        val_accs = list(row.val_accs)[0]\n",
        "        test_acc = list(row.test_acc)[0]\n",
        "        \n",
        "        for epoch, train_acc in enumerate(train_accs):\n",
        "            list_data.append({'type':'train', 'Acc':train_acc, 'test_acc':test_acc, 'epoch':epoch, var1:value1, var2:value2})\n",
        "        for epoch, val_acc in enumerate(val_accs):\n",
        "            list_data.append({'type':'val', 'Acc':val_acc, 'test_acc':test_acc, 'epoch':epoch, var1:value1, var2:value2})\n",
        "        \n",
        "df = pd.DataFrame(list_data)\n",
        "g = sns.FacetGrid(df, row=var2, col=var1, hue='type', margin_titles=True, sharey=False)\n",
        "g = g.map(plt.plot, 'epoch', 'Acc', marker='.')\n",
        "\n",
        "def show_acc(x, y, metric, **kwargs):\n",
        "    plt.scatter(x, y, alpha=0.3, s=1)\n",
        "    metric = \"Test Acc: {:1.3f}\".format(list(metric.values)[0])\n",
        "    plt.text(0.05, 0.95, metric,  horizontalalignment='left', verticalalignment='center', transform=plt.gca().transAxes, bbox=dict(facecolor='yellow', alpha=0.5, boxstyle=\"round,pad=0.1\"))\n",
        "g = g.map(show_acc, 'epoch', 'Acc', 'test_acc')\n",
        "\n",
        "g.add_legend()\n",
        "g.fig.suptitle('Train Accuracy vs Val Accuracy')\n",
        "plt.subplots_adjust(top=0.89)"
      ],
      "execution_count": 21,
      "outputs": [
        {
          "output_type": "display_data",
          "data": {
            "image/png": "[encoded data removed]",
            "text/plain": [
              "<Figure size 707.375x432 with 6 Axes>"
            ]
          },
          "metadata": {}
        }
      ]
    }
  ]
}
